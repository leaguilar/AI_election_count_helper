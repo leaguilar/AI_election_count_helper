{
 "cells": [
  {
   "cell_type": "code",
   "execution_count": 12,
   "metadata": {},
   "outputs": [],
   "source": [
    "import asyncio\n",
    "import requests\n",
    "from concurrent.futures import ThreadPoolExecutor\n",
    "import json\n",
    "import pandas as pd\n",
    "import os\n",
    "from urllib.parse import urlparse"
   ]
  },
  {
   "cell_type": "code",
   "execution_count": 13,
   "metadata": {},
   "outputs": [],
   "source": [
    "from ecdsa import SigningKey, SECP256k1, util\n",
    "import hashlib \n",
    "import random, binascii"
   ]
  },
  {
   "cell_type": "markdown",
   "metadata": {},
   "source": [
    "### Generate Key"
   ]
  },
  {
   "cell_type": "code",
   "execution_count": 14,
   "metadata": {},
   "outputs": [],
   "source": [
    "def StringToKeyBytes(key):\n",
    "        key = bytes(key, 'utf-8')\n",
    "        key = binascii.unhexlify(key) \n",
    "        return key"
   ]
  },
  {
   "cell_type": "code",
   "execution_count": 15,
   "metadata": {},
   "outputs": [],
   "source": [
    "def KeyBytesToString(key):\n",
    "        key = binascii.hexlify(key)\n",
    "        key = key.decode(\"utf-8\")\n",
    "        return key"
   ]
  },
  {
   "cell_type": "code",
   "execution_count": 16,
   "metadata": {},
   "outputs": [
    {
     "name": "stdout",
     "output_type": "stream",
     "text": [
      "My Private key example:  4283fefc63f0cd0e873a0000c6d07ef7b77e90d3593ad699fc1f7cd5bb2e35cb  **SECRET** \n",
      "----------\n",
      "-- DATA FOR PUBLIC --\n",
      "My Public key is:  04e42d50dae16e9c9d1b005cb6886270ecced5067316feff547a2ccc15fb68b49dc9c2ed56209b2de29039ea195adf02afee071ec108a721bdeb992059ba52ac\n",
      "My Curve is  SECP256k1\n"
     ]
    }
   ],
   "source": [
    "random.seed(1) #This is for the example chose a proper random private_string\n",
    "curve = SECP256k1\n",
    "private_string = ''.join(['%x' % random.randrange(16) for x in range(0, 64)]) #This is for the example chose a proper random private_string\n",
    "print(\"My Private key example: \",private_string,\" **SECRET** \")\n",
    "private_key = StringToKeyBytes(private_string)\n",
    "priv = SigningKey.from_string(private_key, curve=curve)\n",
    "pub = priv.get_verifying_key().to_string()\n",
    "pub_string = KeyBytesToString(pub)\n",
    "print(\"-\"*10)\n",
    "print(\"-- DATA FOR PUBLIC --\")\n",
    "print(\"My Public key is: \", pub_string)\n",
    "print(\"My Curve is \",curve.name)"
   ]
  },
  {
   "cell_type": "code",
   "execution_count": null,
   "metadata": {},
   "outputs": [],
   "source": []
  },
  {
   "cell_type": "markdown",
   "metadata": {},
   "source": [
    "### Get image from url"
   ]
  },
  {
   "cell_type": "code",
   "execution_count": 17,
   "metadata": {},
   "outputs": [],
   "source": [
    "def GetImage(fname,url='',path=\"dataSig/\",update=True):\n",
    "    m = hashlib.sha256()\n",
    "    if not update:\n",
    "        exists = os.path.isfile(path+fname)\n",
    "        if exists:\n",
    "            print(\"# Imagen \",fname,\" lista\")\n",
    "            return 1\n",
    "    try:\n",
    "        r=s.get(url,timeout=(600,600))\n",
    "        r.raise_for_status()       \n",
    "    except requests.exceptions.RequestException as e:\n",
    "        print(\"Failed to get \"+url,fname)\n",
    "        return 0\n",
    "    with open(path+fname, 'wb') as f:\n",
    "        m.update(r.content)\n",
    "        print(\"SHA2 \",m.hexdigest())\n",
    "        sig=priv.sign(r.content, hashfunc=hashlib.sha256, sigencode=util.sigencode_der)\n",
    "        sig_string=KeyBytesToString(sig)\n",
    "        print(\"SIG :\", sig_string)\n",
    "        f.write(r.content)\n",
    "        return 1"
   ]
  },
  {
   "cell_type": "markdown",
   "metadata": {},
   "source": [
    "### Get JSON data"
   ]
  },
  {
   "cell_type": "code",
   "execution_count": 19,
   "metadata": {},
   "outputs": [],
   "source": [
    "def ObtenerDatosMesa(fname,req,site='https://resultados2019.tse.org.gt/201901/',path=\"dataSig/\",update=False):\n",
    "    if not update:\n",
    "        exists = os.path.isfile(path+fname)\n",
    "        if exists:\n",
    "            print(\"# ACTA \",fname,\" lista\")\n",
    "            d=AbrirDatosMesa(path+fname)\n",
    "            return 1,d\n",
    "    try:\n",
    "        r=s.get(site+req,timeout=(600,600))\n",
    "        r.raise_for_status()\n",
    "    except requests.exceptions.RequestException as e:\n",
    "        print(e)\n",
    "        print(\"Failed to get \"+site+req,fname)\n",
    "        return 0,0\n",
    "    \n",
    "    my_json = r.content.decode('utf8')\n",
    "    if len(my_json):\n",
    "        with open(path+fname,'w') as outfile:  \n",
    "            outfile.write(my_json)\n",
    "        d = json.loads(my_json)\n",
    "        return 1,d\n",
    "    else:\n",
    "        print(site+req)\n",
    "        print('EMPTY RESPONSE')\n",
    "        print(r.content)\n",
    "        return 0,0"
   ]
  },
  {
   "cell_type": "markdown",
   "metadata": {},
   "source": [
    "### Open JSON file"
   ]
  },
  {
   "cell_type": "code",
   "execution_count": 20,
   "metadata": {},
   "outputs": [],
   "source": [
    "def AbrirDatosMesa(fname):\n",
    "    with open(fname) as json_file:  \n",
    "        data = json.load(json_file)\n",
    "    return data"
   ]
  },
  {
   "cell_type": "markdown",
   "metadata": {},
   "source": [
    "### Get data for a given \"mesa\""
   ]
  },
  {
   "cell_type": "code",
   "execution_count": 21,
   "metadata": {},
   "outputs": [],
   "source": [
    "def ProcesarMesa(mesa):\n",
    "    data_name=\"mesa_\"+'{0:06d}'.format(mesa)+'.json'\n",
    "    req=\"api.php?mesa={}&vista=MESA&token={}\".format(mesa,token)\n",
    "    #req=\"api.php?mesa={}&vista=MESA\".format(mesa) #old version didn't need the token\n",
    "    archivos_completos=0\n",
    "    datos_completos=True\n",
    "    \n",
    "    resp=ObtenerDatosMesa(data_name,req)\n",
    "    locations={}\n",
    "    if resp[0]:\n",
    "        datos_completos=True\n",
    "        d = resp[1]\n",
    "        for acta in d['TE']:\n",
    "            url=acta['IMGSRC']\n",
    "            purl=urlparse(url)\n",
    "            fname=os.path.basename(purl.path)\n",
    "            locations[fname]=url\n",
    "    else:\n",
    "        datos_completos=False\n",
    "        return(datos_completos,archivos_completos)\n",
    "    for j in range(1,n_papeletas+1):\n",
    "        fname='{0:06d}'.format(mesa*10+j)+'.jpg'        \n",
    "        if fname in locations:\n",
    "            if GetImage(fname,locations[fname]):\n",
    "                archivos_completos+=1\n",
    "        else:\n",
    "            print(\"UNK \",fname)\n",
    "    print(\"M\",mesa,datos_completos,archivos_completos)\n",
    "    return(datos_completos,archivos_completos)"
   ]
  },
  {
   "cell_type": "markdown",
   "metadata": {},
   "source": [
    "# Task scheduler"
   ]
  },
  {
   "cell_type": "code",
   "execution_count": 22,
   "metadata": {},
   "outputs": [],
   "source": [
    "async def get_data_asynchronous(path=\"dataSig/\",startFromZero=True):\n",
    "    \n",
    "    mesas=[]\n",
    "    if startFromZero:\n",
    "        mesas=range(start,end)\n",
    "    else:\n",
    "        df=pd.read_csv('dataSig/results.csv')\n",
    "        for index, row in df.iterrows():\n",
    "            if row['datos']==False or row['actas']<5:\n",
    "                mesas.append(int(row['mesa']))\n",
    "    \n",
    "    with ThreadPoolExecutor(max_workers=10) as executor:\n",
    "        loop = asyncio.get_event_loop()\n",
    "        tasks = [\n",
    "                loop.run_in_executor(\n",
    "                    executor,\n",
    "                    ProcesarMesa,\n",
    "                    mesa\n",
    "                )\n",
    "            for mesa in mesas\n",
    "        ]\n",
    "        res=await asyncio.gather(*tasks)\n",
    "        with open(path+'results.csv', 'w') as f:\n",
    "            f.write(\"mesa,datos,actas\\n\")\n",
    "            for i,response in enumerate(res):\n",
    "                print(\"Mesa {} response {}\".format(mesas[i],response))\n",
    "                f.write(\"{},{},{}\\n\".format(mesas[i],response[0],response[1]))\n",
    "                pass"
   ]
  },
  {
   "cell_type": "markdown",
   "metadata": {},
   "source": [
    "### Create a session and init parameters"
   ]
  },
  {
   "cell_type": "code",
   "execution_count": 23,
   "metadata": {},
   "outputs": [],
   "source": [
    "##TODO VERY UGLY global variables, need manual restart on server fault\n",
    "s=requests.Session()\n",
    "r=s.get('https://resultados2019.tse.org.gt/201901/')\n",
    "my_json = r.content.decode('utf8')\n",
    "\n",
    "#Extract token from the session\n",
    "sv='vista=MESA&token='\n",
    "if sv in my_json:\n",
    "    idx=my_json.index(sv)+len(sv)\n",
    "    token=my_json[idx:idx+40]\n",
    "\n",
    "\n",
    "total_mesas=21100\n",
    "start=1\n",
    "end=total_mesas\n",
    "n_papeletas=1 #5\n",
    "site='https://resultados2019.tse.org.gt/img/201901/'"
   ]
  },
  {
   "cell_type": "markdown",
   "metadata": {},
   "source": [
    "#### Get singe 'mesa' data"
   ]
  },
  {
   "cell_type": "code",
   "execution_count": 24,
   "metadata": {},
   "outputs": [
    {
     "name": "stdout",
     "output_type": "stream",
     "text": [
      "# ACTA  mesa_000001.json  lista\n",
      "SHA2  1792f9d089bfd2e34dba0c5a4d3554a38d948a5a63abef12e2e754eed201f14a\n",
      "SIG : 30440220318ee4c83edbab3a2b5dfb0a3b707132a3613f468a6e00dcf7fe17072b92bdd7022002bdf92233962735663e2c7ea3e03a9d0dc634fbde86f89aa325d2ce0efc94bc\n",
      "M 1 True 1\n"
     ]
    },
    {
     "data": {
      "text/plain": [
       "(True, 1)"
      ]
     },
     "execution_count": 24,
     "metadata": {},
     "output_type": "execute_result"
    }
   ],
   "source": [
    "ProcesarMesa(1)"
   ]
  },
  {
   "cell_type": "markdown",
   "metadata": {},
   "source": [
    "### Asynchronous download all the data within start and end"
   ]
  },
  {
   "cell_type": "code",
   "execution_count": null,
   "metadata": {},
   "outputs": [],
   "source": [
    "#Signatures printed out... save them to file or HTML and avoid race conditions\n",
    "#loop = asyncio.get_event_loop()\n",
    "#future = asyncio.ensure_future(get_data_asynchronous())\n",
    "#loop.run_until_complete(future)"
   ]
  },
  {
   "cell_type": "code",
   "execution_count": null,
   "metadata": {},
   "outputs": [],
   "source": []
  }
 ],
 "metadata": {
  "kernelspec": {
   "display_name": "Python 3",
   "language": "python",
   "name": "python3"
  },
  "language_info": {
   "codemirror_mode": {
    "name": "ipython",
    "version": 3
   },
   "file_extension": ".py",
   "mimetype": "text/x-python",
   "name": "python",
   "nbconvert_exporter": "python",
   "pygments_lexer": "ipython3",
   "version": "3.6.7"
  }
 },
 "nbformat": 4,
 "nbformat_minor": 2
}

{
 "cells": [
  {
   "cell_type": "code",
   "execution_count": null,
   "metadata": {},
   "outputs": [],
   "source": [
    "import json\n",
    "import pandas as pd\n",
    "import os\n",
    "from pandas.io.json import json_normalize\n",
    "import random\n",
    "import pandas as pd\n",
    "import math\n",
    "import pickle"
   ]
  },
  {
   "cell_type": "markdown",
   "metadata": {},
   "source": [
    "### JSON management"
   ]
  },
  {
   "cell_type": "code",
   "execution_count": null,
   "metadata": {},
   "outputs": [],
   "source": [
    "def AbrirDatosMesa(fname):\n",
    "    with open(fname) as json_file:  \n",
    "        data = json.load(json_file)\n",
    "    return data"
   ]
  },
  {
   "cell_type": "code",
   "execution_count": null,
   "metadata": {},
   "outputs": [],
   "source": [
    "def GetDatosMesa(mesa):\n",
    "    path=\"../../data/\"\n",
    "    data_name=\"mesa_\"+'{0:06d}'.format(mesa)+'.json'\n",
    "    data=AbrirDatosMesa(path+data_name)\n",
    "    return data"
   ]
  },
  {
   "cell_type": "code",
   "execution_count": null,
   "metadata": {},
   "outputs": [],
   "source": [
    "def ExtractDataActa(acta,data):\n",
    "    partidosC1=[] #nombres de partidos en la primer columna\n",
    "    votosC1=[] #votos partidos en la primer columna\n",
    "    partidosC2=[] #nombres de partidos en la segunda columna\n",
    "    votosC2=[] #votos partidos en la segunda columna\n",
    "    #print(acta)\n",
    "    \n",
    "    b=None\n",
    "    for dacta in data['TE']:\n",
    "        if 'VOTOSTE'+str(acta-1) in dacta:\n",
    "            b=dacta['VOTOSTE'+str(acta-1)]\n",
    "            break\n",
    "    \n",
    "    if not b:\n",
    "        return partidosC1,votosC1,partidosC2,votosC2    \n",
    "    #print(acta)\n",
    "    maxA=24-1\n",
    "    for i,val in enumerate(b):\n",
    "        if i>maxA:\n",
    "            val['D']=''.join([i for i in val['D'] if i.isalpha()])\n",
    "            partidosC2.append(val['D'])\n",
    "            votosC2.append(int(val['V']))\n",
    "        else:\n",
    "            val['D']=''.join([i for i in val['D'] if i.isalpha()])\n",
    "            partidosC1.append(val['D'])\n",
    "            votosC1.append(int(val['V']))\n",
    "    return partidosC1,votosC1,partidosC2,votosC2"
   ]
  },
  {
   "cell_type": "code",
   "execution_count": null,
   "metadata": {},
   "outputs": [],
   "source": [
    "def ProcessFile(mesa):\n",
    "    print(\"Mesa\",mesa)\n",
    "    path=\"../../data/\"\n",
    "    out_path='./'\n",
    "    mfname=\"mesa_\"+'{0:06d}'.format(mesa)+'.json'\n",
    "    \n",
    "    exists = os.path.isfile(path+mfname)\n",
    "    if not exists:\n",
    "        print(\"Datos \",mfname,\" NO EXISTE\")\n",
    "        return (True,-1)\n",
    "    \n",
    "    mdata=GetDatosMesa(mesa)\n",
    "    total_actas={}\n",
    "    for acta in range(1,6):       \n",
    "        partidosC1,votosC1,partidosC2,votosC2=ExtractDataActa(acta,mdata)\n",
    "        total_actas[acta]=((partidosC1,votosC1,partidosC2,votosC2))\n",
    "    return total_actas"
   ]
  },
  {
   "cell_type": "markdown",
   "metadata": {},
   "source": [
    "### Creates or Loads a \"database\" made of nested dict and lists out of JSONs"
   ]
  },
  {
   "cell_type": "code",
   "execution_count": null,
   "metadata": {},
   "outputs": [],
   "source": [
    "def CreateLoadDatabase():\n",
    "    fname='database.p'\n",
    "    path=\"./\"\n",
    "    \n",
    "    exists = os.path.isfile(path+fname)\n",
    "    \n",
    "    if exists:\n",
    "        with open(path+fname, 'rb') as handle:\n",
    "            todas_mesas=pickle.load(handle)\n",
    "    else:        \n",
    "        todas_mesas={}\n",
    "        tot_mesas=21100\n",
    "        for i in range(1,tot_mesas):\n",
    "            mesa=ProcessFile(i)\n",
    "            todas_mesas[i]=mesa\n",
    "        with open(path+fname, 'wb') as handle:\n",
    "            pickle.dump(todas_mesas,handle)\n",
    "    return todas_mesas"
   ]
  },
  {
   "cell_type": "code",
   "execution_count": null,
   "metadata": {},
   "outputs": [],
   "source": [
    "database=CreateLoadDatabase()"
   ]
  },
  {
   "cell_type": "markdown",
   "metadata": {},
   "source": [
    "## Mturk data Management"
   ]
  },
  {
   "cell_type": "code",
   "execution_count": null,
   "metadata": {},
   "outputs": [],
   "source": [
    "fname='Batch_3693194_batch_results.csv'\n",
    "df=pd.read_csv(fname, sep=',')\n",
    "#df=df[0:9] #small test\n",
    "df=df[['Input.imgName','Answer.IsDifficult.difficult','Answer.tagA01','Answer.tagA02','Answer.tagA03','Answer.tagA04','Answer.tagA05','Answer.tagA06','Answer.tagA07','Answer.tagA08','Answer.tagA09','Answer.tagA10','Answer.tagA11','Answer.tagA12','Answer.tagA13','Answer.tagA14','Answer.tagA15','Answer.tagA16','Answer.tagA17','Answer.tagA18','Answer.tagA19','Answer.tagA20','Answer.tagA21','Answer.tagA22','Answer.tagA23','Answer.tagA24']]\n",
    "df.columns = ['name','difficult','1','2','3','4','5','6','7','8','9','10','11','12','13','14','15','16','17','18','19','20','21','22','23','24']"
   ]
  },
  {
   "cell_type": "markdown",
   "metadata": {},
   "source": [
    "#### Calculate consensus: -1 without consensus, -2 error"
   ]
  },
  {
   "cell_type": "code",
   "execution_count": null,
   "metadata": {},
   "outputs": [],
   "source": [
    "def aggFunc(series):\n",
    "    v=series.value_counts(dropna=False)\n",
    "    try:\n",
    "        if v.iloc[0]<2:\n",
    "            return -1\n",
    "        else:\n",
    "            return v.index[0]\n",
    "    except:\n",
    "        return -2"
   ]
  },
  {
   "cell_type": "code",
   "execution_count": null,
   "metadata": {},
   "outputs": [],
   "source": [
    "b=df.groupby('name').agg(aggFunc).reset_index().copy(deep=True)"
   ]
  },
  {
   "cell_type": "markdown",
   "metadata": {},
   "source": [
    "#### Extract measa and acta from jpeg filename"
   ]
  },
  {
   "cell_type": "code",
   "execution_count": null,
   "metadata": {},
   "outputs": [],
   "source": [
    "b['mesa']=b['name'].str[:5]\n",
    "b['acta']=b['name'].str[-5]"
   ]
  },
  {
   "cell_type": "markdown",
   "metadata": {},
   "source": [
    "#### Keep relevant results and convert to integers"
   ]
  },
  {
   "cell_type": "code",
   "execution_count": null,
   "metadata": {},
   "outputs": [],
   "source": [
    "b=b[['mesa','acta','1','2','3','4','5','6','7','8','9','10','11','12','13','14','15','16','17','18','19','20','21','22','23','24']]\n",
    "b=b.astype(int)"
   ]
  },
  {
   "cell_type": "markdown",
   "metadata": {},
   "source": [
    "#### Count fails and lack of consesus"
   ]
  },
  {
   "cell_type": "code",
   "execution_count": null,
   "metadata": {},
   "outputs": [],
   "source": [
    "fail_count=0\n",
    "sconsenso_count=0\n",
    "site='https://elecciones2019.s3.us-east-2.amazonaws.com/data_mturk/'\n",
    "for _, data in b.iterrows():\n",
    "    acta_num=data['acta']\n",
    "    mesa_num=data['mesa']    \n",
    "    votos_tse=database[mesa_num][acta_num][1]\n",
    "    mtvotes=list(data[2:len(votos_tse)+2])\n",
    "    if -1 in mtvotes:\n",
    "        sconsenso_count+=1\n",
    "        print('##Mesa {} en acta {} sin consenso'.format(mesa_num,acta_num))\n",
    "    elif votos_tse!=mtvotes:\n",
    "        fname='{0:06d}'.format(mesa_num*10+acta_num)+'.jpg'\n",
    "        fail_count+=1\n",
    "        print('Mesa {} en acta {} no cuadra'.format(mesa_num,acta_num))\n",
    "        print(site+fname)\n",
    "        print('TSE ',votos_tse)\n",
    "        print('MTURK ',mtvotes)\n",
    "        print('-'*10)"
   ]
  },
  {
   "cell_type": "code",
   "execution_count": null,
   "metadata": {},
   "outputs": [],
   "source": [
    "print(\"Fail \",fail_count)\n",
    "print(\"CFail \",sconsenso_count)"
   ]
  },
  {
   "cell_type": "code",
   "execution_count": null,
   "metadata": {},
   "outputs": [],
   "source": [
    "print(\"Mesas mturk\",len(b))"
   ]
  },
  {
   "cell_type": "markdown",
   "metadata": {},
   "source": [
    "#### Check indivdiaul mesa"
   ]
  },
  {
   "cell_type": "code",
   "execution_count": null,
   "metadata": {},
   "outputs": [],
   "source": [
    "mesa=1\n",
    "acta=1\n",
    "fname='{0:06d}'.format(mesa*10+acta)+'.jpg'\n",
    "site='https://elecciones2019.s3.us-east-2.amazonaws.com/data_mturk/'\n",
    "print(site+fname)\n",
    "database[mesa][acta][1]"
   ]
  },
  {
   "cell_type": "code",
   "execution_count": null,
   "metadata": {},
   "outputs": [],
   "source": []
  }
 ],
 "metadata": {
  "kernelspec": {
   "display_name": "Python 3",
   "language": "python",
   "name": "python3"
  },
  "language_info": {
   "codemirror_mode": {
    "name": "ipython",
    "version": 3
   },
   "file_extension": ".py",
   "mimetype": "text/x-python",
   "name": "python",
   "nbconvert_exporter": "python",
   "pygments_lexer": "ipython3",
   "version": "3.6.7"
  }
 },
 "nbformat": 4,
 "nbformat_minor": 2
}

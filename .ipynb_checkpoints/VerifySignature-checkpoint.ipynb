{
 "cells": [
  {
   "cell_type": "code",
   "execution_count": 67,
   "metadata": {},
   "outputs": [],
   "source": [
    "import os\n",
    "import cv2\n",
    "from ecdsa import VerifyingKey, SECP256k1, util\n",
    "import hashlib\n",
    "import random, binascii"
   ]
  },
  {
   "cell_type": "markdown",
   "metadata": {},
   "source": [
    "### Parameters given by the signer"
   ]
  },
  {
   "cell_type": "code",
   "execution_count": 68,
   "metadata": {},
   "outputs": [],
   "source": [
    "PUBLIC_KEY=\"04e42d50dae16e9c9d1b005cb6886270ecced5067316feff547a2ccc15fb68b49dc9c2ed56209b2de29039ea195adf02afee071ec108a721bdeb992059ba52ac\"\n",
    "curve=SECP256k1"
   ]
  },
  {
   "cell_type": "code",
   "execution_count": 69,
   "metadata": {},
   "outputs": [],
   "source": [
    "def StringToKeyBytes(key):\n",
    "        key = bytes(key, 'utf-8')\n",
    "        key = binascii.unhexlify(key) \n",
    "        return key"
   ]
  },
  {
   "cell_type": "code",
   "execution_count": 70,
   "metadata": {},
   "outputs": [],
   "source": [
    "def GetImage(mesa,acta):\n",
    "    print(\"Mesa\",mesa,\"Acta\",acta)\n",
    "    path=\"dataSig/\"\n",
    "    fname='{0:06d}'.format(mesa*10+acta)+'.jpg'\n",
    "\n",
    "    exists = os.path.isfile(path+fname)\n",
    "    if not exists:\n",
    "        print(\"ACTA \",fname,\" NO EXISTE\")\n",
    "    with open(path+fname, \"rb\") as binary_file:\n",
    "        image = binary_file.read()\n",
    "    return image"
   ]
  },
  {
   "cell_type": "markdown",
   "metadata": {},
   "source": [
    "### Calculating digest of a single file"
   ]
  },
  {
   "cell_type": "code",
   "execution_count": 71,
   "metadata": {},
   "outputs": [
    {
     "name": "stdout",
     "output_type": "stream",
     "text": [
      "Mesa 1 Acta 1\n",
      "SHA2  1792f9d089bfd2e34dba0c5a4d3554a38d948a5a63abef12e2e754eed201f14a\n"
     ]
    }
   ],
   "source": [
    "img=GetImage(1,1)\n",
    "m = hashlib.sha256()\n",
    "m.update(img)\n",
    "current_hash=m.hexdigest()\n",
    "print(\"SHA2 \",current_hash)"
   ]
  },
  {
   "cell_type": "markdown",
   "metadata": {},
   "source": [
    "### Signature to be verified (in this case SHA256 of the file)"
   ]
  },
  {
   "cell_type": "code",
   "execution_count": 72,
   "metadata": {},
   "outputs": [],
   "source": [
    "sig_string=\"3046022100a2c017b723d5a6047b51ab8240c5c9676d81501888ebcbec99f23bd7f577dbb9022100eb1962c22b42a9e00561f6b61a6d75c27c3ea377d054ca48e29b3d97e60ac511\""
   ]
  },
  {
   "cell_type": "code",
   "execution_count": 73,
   "metadata": {},
   "outputs": [],
   "source": [
    "sig=StringToKeyBytes(sig_string)"
   ]
  },
  {
   "cell_type": "code",
   "execution_count": 74,
   "metadata": {},
   "outputs": [],
   "source": [
    "vk_string = StringToKeyBytes(PUBLIC_KEY)\n",
    "vk = VerifyingKey.from_string(vk_string, curve=curve)"
   ]
  },
  {
   "cell_type": "markdown",
   "metadata": {},
   "source": [
    "### Verifying the file (i.e. calculating hash and comparing with the encrypted hash)"
   ]
  },
  {
   "cell_type": "code",
   "execution_count": 75,
   "metadata": {},
   "outputs": [
    {
     "data": {
      "text/plain": [
       "True"
      ]
     },
     "execution_count": 75,
     "metadata": {},
     "output_type": "execute_result"
    }
   ],
   "source": [
    "vk.verify(sig,img,hashfunc=hashlib.sha256, sigdecode=util.sigdecode_der)"
   ]
  },
  {
   "cell_type": "markdown",
   "metadata": {},
   "source": [
    "### Verifying directly the hash"
   ]
  },
  {
   "cell_type": "code",
   "execution_count": 76,
   "metadata": {},
   "outputs": [
    {
     "data": {
      "text/plain": [
       "True"
      ]
     },
     "execution_count": 76,
     "metadata": {},
     "output_type": "execute_result"
    }
   ],
   "source": [
    "ch=StringToKeyBytes(current_hash)\n",
    "vk.verify_digest(sig,ch, sigdecode=util.sigdecode_der)"
   ]
  }
 ],
 "metadata": {
  "kernelspec": {
   "display_name": "Python 3",
   "language": "python",
   "name": "python3"
  },
  "language_info": {
   "codemirror_mode": {
    "name": "ipython",
    "version": 3
   },
   "file_extension": ".py",
   "mimetype": "text/x-python",
   "name": "python",
   "nbconvert_exporter": "python",
   "pygments_lexer": "ipython3",
   "version": "3.6.7"
  }
 },
 "nbformat": 4,
 "nbformat_minor": 2
}

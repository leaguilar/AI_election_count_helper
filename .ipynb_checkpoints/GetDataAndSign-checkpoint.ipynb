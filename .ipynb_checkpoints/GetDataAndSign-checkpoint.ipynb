{
 "cells": [
  {
   "cell_type": "code",
   "execution_count": null,
   "metadata": {},
   "outputs": [],
   "source": [
    "import asyncio\n",
    "import requests\n",
    "from concurrent.futures import ThreadPoolExecutor\n",
    "import json\n",
    "import pandas as pd\n",
    "import os\n",
    "from urllib.parse import urlparse"
   ]
  },
  {
   "cell_type": "markdown",
   "metadata": {},
   "source": [
    "### Get image from url"
   ]
  },
  {
   "cell_type": "code",
   "execution_count": null,
   "metadata": {},
   "outputs": [],
   "source": [
    "def GetImage(fname,url='',path=\"data/\",update=False):\n",
    "    if not update:\n",
    "        exists = os.path.isfile(path+fname)\n",
    "        if exists:\n",
    "            print(\"# Imagen \",fname,\" lista\")\n",
    "            return 1\n",
    "    try:\n",
    "        r=s.get(url,timeout=(600,600))\n",
    "        r.raise_for_status()       \n",
    "    except requests.exceptions.RequestException as e:\n",
    "        print(\"Failed to get \"+url,fname)\n",
    "        return 0\n",
    "    with open(path+fname, 'wb') as f:\n",
    "        f.write(r.content)\n",
    "        return 1"
   ]
  },
  {
   "cell_type": "markdown",
   "metadata": {},
   "source": [
    "### Get JSON data"
   ]
  },
  {
   "cell_type": "code",
   "execution_count": null,
   "metadata": {},
   "outputs": [],
   "source": [
    "def ObtenerDatosMesa(fname,req,site='https://resultados2019.tse.org.gt/201901/',path=\"data/\",update=False):\n",
    "    if not update:\n",
    "        exists = os.path.isfile(path+fname)\n",
    "        if exists:\n",
    "            print(\"# ACTA \",fname,\" lista\")\n",
    "            d=AbrirDatosMesa(path+fname)\n",
    "            return 1,d\n",
    "    try:\n",
    "        r=s.get(site+req,timeout=(600,600))\n",
    "        r.raise_for_status()\n",
    "    except requests.exceptions.RequestException as e:\n",
    "        print(e)\n",
    "        print(\"Failed to get \"+site+req,fname)\n",
    "        return 0,0\n",
    "    \n",
    "    my_json = r.content.decode('utf8')\n",
    "    if len(my_json):\n",
    "        with open(path+fname,'w') as outfile:  \n",
    "            outfile.write(my_json)\n",
    "        d = json.loads(my_json)\n",
    "        return 1,d\n",
    "    else:\n",
    "        print(site+req)\n",
    "        print('EMPTY RESPONSE')\n",
    "        print(r.content)\n",
    "        return 0,0"
   ]
  },
  {
   "cell_type": "markdown",
   "metadata": {},
   "source": [
    "### Open JSON file"
   ]
  },
  {
   "cell_type": "code",
   "execution_count": null,
   "metadata": {},
   "outputs": [],
   "source": [
    "def AbrirDatosMesa(fname):\n",
    "    with open(fname) as json_file:  \n",
    "        data = json.load(json_file)\n",
    "    return data"
   ]
  },
  {
   "cell_type": "markdown",
   "metadata": {},
   "source": [
    "### Get data for a given \"mesa\""
   ]
  },
  {
   "cell_type": "code",
   "execution_count": null,
   "metadata": {},
   "outputs": [],
   "source": [
    "def ProcesarMesa(mesa):\n",
    "    data_name=\"mesa_\"+'{0:06d}'.format(mesa)+'.json'\n",
    "    req=\"api.php?mesa={}&vista=MESA&token={}\".format(mesa,token)\n",
    "    #req=\"api.php?mesa={}&vista=MESA\".format(mesa) #old version didn't need the token\n",
    "    archivos_completos=0\n",
    "    datos_completos=True\n",
    "    \n",
    "    resp=ObtenerDatosMesa(data_name,req)\n",
    "    locations={}\n",
    "    if resp[0]:\n",
    "        datos_completos=True\n",
    "        d = resp[1]\n",
    "        for acta in d['TE']:\n",
    "            url=acta['IMGSRC']\n",
    "            purl=urlparse(url)\n",
    "            fname=os.path.basename(purl.path)\n",
    "            locations[fname]=url\n",
    "    else:\n",
    "        datos_completos=False\n",
    "        return(datos_completos,archivos_completos)\n",
    "    for j in range(1,n_papeletas+1):\n",
    "        fname='{0:06d}'.format(mesa*10+j)+'.jpg'        \n",
    "        if fname in locations:\n",
    "            if GetImage(fname,locations[fname]):\n",
    "                archivos_completos+=1\n",
    "        else:\n",
    "            print(\"UNK \",fname)\n",
    "    print(\"M\",mesa,datos_completos,archivos_completos)\n",
    "    return(datos_completos,archivos_completos)"
   ]
  },
  {
   "cell_type": "markdown",
   "metadata": {},
   "source": [
    "# Task scheduler"
   ]
  },
  {
   "cell_type": "code",
   "execution_count": null,
   "metadata": {},
   "outputs": [],
   "source": [
    "async def get_data_asynchronous(path=\"data/\",startFromZero=True):\n",
    "    \n",
    "    mesas=[]\n",
    "    if startFromZero:\n",
    "        mesas=range(start,end)\n",
    "    else:\n",
    "        df=pd.read_csv('data/results.csv')\n",
    "        for index, row in df.iterrows():\n",
    "            if row['datos']==False or row['actas']<5:\n",
    "                mesas.append(int(row['mesa']))\n",
    "    \n",
    "    with ThreadPoolExecutor(max_workers=10) as executor:\n",
    "        loop = asyncio.get_event_loop()\n",
    "        tasks = [\n",
    "                loop.run_in_executor(\n",
    "                    executor,\n",
    "                    ProcesarMesa,\n",
    "                    mesa\n",
    "                )\n",
    "            for mesa in mesas\n",
    "        ]\n",
    "        res=await asyncio.gather(*tasks)\n",
    "        with open(path+'results.csv', 'w') as f:\n",
    "            f.write(\"mesa,datos,actas\\n\")\n",
    "            for i,response in enumerate(res):\n",
    "                print(\"Mesa {} response {}\".format(mesas[i],response))\n",
    "                f.write(\"{},{},{}\\n\".format(mesas[i],response[0],response[1]))\n",
    "                pass"
   ]
  },
  {
   "cell_type": "markdown",
   "metadata": {},
   "source": [
    "### Create a session and init parameters"
   ]
  },
  {
   "cell_type": "code",
   "execution_count": null,
   "metadata": {},
   "outputs": [],
   "source": [
    "##TODO VERY UGLY global variables, need manual restart on server fault\n",
    "s=requests.Session()\n",
    "r=s.get('https://resultados2019.tse.org.gt/201901/')\n",
    "my_json = r.content.decode('utf8')\n",
    "\n",
    "#Extract token from the session\n",
    "sv='vista=MESA&token='\n",
    "if sv in my_json:\n",
    "    idx=my_json.index(sv)+len(sv)\n",
    "    token=my_json[idx:idx+40]\n",
    "\n",
    "\n",
    "total_mesas=21100\n",
    "start=1\n",
    "end=total_mesas\n",
    "n_papeletas=5\n",
    "site='https://resultados2019.tse.org.gt/img/201901/'"
   ]
  },
  {
   "cell_type": "markdown",
   "metadata": {},
   "source": [
    "#### Get singe 'mesa' data"
   ]
  },
  {
   "cell_type": "code",
   "execution_count": null,
   "metadata": {},
   "outputs": [],
   "source": [
    "ProcesarMesa(21099)"
   ]
  },
  {
   "cell_type": "markdown",
   "metadata": {},
   "source": [
    "### Asynchronous download all the data within start and end"
   ]
  },
  {
   "cell_type": "code",
   "execution_count": null,
   "metadata": {},
   "outputs": [],
   "source": [
    "loop = asyncio.get_event_loop()\n",
    "future = asyncio.ensure_future(get_data_asynchronous())\n",
    "loop.run_until_complete(future)"
   ]
  },
  {
   "cell_type": "code",
   "execution_count": null,
   "metadata": {},
   "outputs": [],
   "source": []
  }
 ],
 "metadata": {
  "kernelspec": {
   "display_name": "Python 3",
   "language": "python",
   "name": "python3"
  },
  "language_info": {
   "codemirror_mode": {
    "name": "ipython",
    "version": 3
   },
   "file_extension": ".py",
   "mimetype": "text/x-python",
   "name": "python",
   "nbconvert_exporter": "python",
   "pygments_lexer": "ipython3",
   "version": "3.6.7"
  }
 },
 "nbformat": 4,
 "nbformat_minor": 2
}
